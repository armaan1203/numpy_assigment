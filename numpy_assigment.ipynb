{
  "nbformat": 4,
  "nbformat_minor": 0,
  "metadata": {
    "colab": {
      "provenance": []
    },
    "kernelspec": {
      "name": "python3",
      "display_name": "Python 3"
    },
    "language_info": {
      "name": "python"
    }
  },
  "cells": [
    {
      "cell_type": "markdown",
      "source": [
        "Python library is collection of pre written codes to perform complex task quickly. It is used to save time,efforts,and code reuseability and simplify the complex tasks."
      ],
      "metadata": {
        "id": "3e1hdMD8qfom"
      }
    },
    {
      "cell_type": "markdown",
      "source": [
        "The array is a type which only consists one data type as all numeric means all element should be integer or float and list consists mixed data types.and numpy array consists of advanced numerical operations and list consits of basic numerical operations.Array uses less  memory as compared to list."
      ],
      "metadata": {
        "id": "pW-Tya3WraXM"
      }
    },
    {
      "cell_type": "code",
      "source": [
        "import numpy as np\n",
        "x=np.array([[1, 2, 3, 4],[5, 6, 7, 8],[9, 10, 11, 12]])\n",
        "print('shape:',np.shape(x))\n",
        "print('size:',np.size(x))\n",
        "print('dimension:',np.ndim(x))"
      ],
      "metadata": {
        "colab": {
          "base_uri": "https://localhost:8080/"
        },
        "id": "g2g2qaGxrDSi",
        "outputId": "934429e8-790e-4756-c3d2-eef9457d3a96"
      },
      "execution_count": 2,
      "outputs": [
        {
          "output_type": "stream",
          "name": "stdout",
          "text": [
            "shape: (3, 4)\n",
            "size: 12\n",
            "dimension: 2\n"
          ]
        }
      ]
    },
    {
      "cell_type": "code",
      "source": [
        "x[0]"
      ],
      "metadata": {
        "colab": {
          "base_uri": "https://localhost:8080/"
        },
        "id": "MOHdyYYZszXf",
        "outputId": "15682d45-474a-4ab3-b2c2-579ac7f2d05d"
      },
      "execution_count": 3,
      "outputs": [
        {
          "output_type": "execute_result",
          "data": {
            "text/plain": [
              "array([1, 2, 3, 4])"
            ]
          },
          "metadata": {},
          "execution_count": 3
        }
      ]
    },
    {
      "cell_type": "code",
      "source": [
        "element=x[2,3]\n",
        "print(\"The element of 3rd row and 4thn colum is:\",element)"
      ],
      "metadata": {
        "colab": {
          "base_uri": "https://localhost:8080/"
        },
        "id": "4QPWNJNat32_",
        "outputId": "7a68f8aa-02c5-4852-a025-8d46cc374add"
      },
      "execution_count": 4,
      "outputs": [
        {
          "output_type": "stream",
          "name": "stdout",
          "text": [
            "The element of 3rd row and 4thn colum is: 12\n"
          ]
        }
      ]
    },
    {
      "cell_type": "code",
      "source": [
        "prime_elements=x[1::2]\n",
        "print(\"The index element with odd number are :\",prime_elements)"
      ],
      "metadata": {
        "colab": {
          "base_uri": "https://localhost:8080/"
        },
        "id": "PgcfKp2Pt-7N",
        "outputId": "e21447da-463a-4b70-c38a-36fc5590a891"
      },
      "execution_count": 5,
      "outputs": [
        {
          "output_type": "stream",
          "name": "stdout",
          "text": [
            "The index element with odd number are : [[5 6 7 8]]\n"
          ]
        }
      ]
    },
    {
      "cell_type": "code",
      "source": [
        "array=np.random.rand(3,3)\n",
        "print(\"The random metrics of 3X3 between 1,0 is:\",array)"
      ],
      "metadata": {
        "colab": {
          "base_uri": "https://localhost:8080/"
        },
        "id": "xL1mvOJHvsbv",
        "outputId": "9deb1a9a-9d6f-411c-86ba-7225729463e8"
      },
      "execution_count": 6,
      "outputs": [
        {
          "output_type": "stream",
          "name": "stdout",
          "text": [
            "The random metrics of 3X3 between 1,0 is: [[0.44817403 0.82693796 0.30207552]\n",
            " [0.29044153 0.26155431 0.31865298]\n",
            " [0.06418242 0.71048844 0.00971832]]\n"
          ]
        }
      ]
    },
    {
      "cell_type": "markdown",
      "source": [
        "The np.random.rand() Generates the value from uniform distribution in a range and np.random.randn() Generates the value from normal distribution."
      ],
      "metadata": {
        "id": "GgDXPYeklzIf"
      }
    },
    {
      "cell_type": "code",
      "source": [
        "arr = np.array([\n",
        "    [1, 2, 3, 4],\n",
        "    [5, 6, 7, 8],\n",
        "    [9, 10, 11, 12]\n",
        "])\n",
        "new_arr = np.expand_dims(arr, axis=0)\n",
        "print(new_arr)\n",
        "print(\"Shape:\", new_arr.shape)"
      ],
      "metadata": {
        "colab": {
          "base_uri": "https://localhost:8080/"
        },
        "id": "LyeshuPOnojA",
        "outputId": "ab8f7818-1e5d-4a03-e81c-8a0c60fa13be"
      },
      "execution_count": 18,
      "outputs": [
        {
          "output_type": "stream",
          "name": "stdout",
          "text": [
            "[[[ 1  2  3  4]\n",
            "  [ 5  6  7  8]\n",
            "  [ 9 10 11 12]]]\n",
            "Shape: (1, 3, 4)\n"
          ]
        }
      ]
    },
    {
      "cell_type": "code",
      "source": [
        "transposed_array=np.transpose(arr)\n",
        "print(\"The trandsposed array is:\",transposed_array)"
      ],
      "metadata": {
        "colab": {
          "base_uri": "https://localhost:8080/"
        },
        "id": "2aAYRr5cotgj",
        "outputId": "4d233988-23a0-41d9-91a5-e7b178f41090"
      },
      "execution_count": 20,
      "outputs": [
        {
          "output_type": "stream",
          "name": "stdout",
          "text": [
            "The trandsposed array is: [[ 1  5  9]\n",
            " [ 2  6 10]\n",
            " [ 3  7 11]\n",
            " [ 4  8 12]]\n"
          ]
        }
      ]
    },
    {
      "cell_type": "code",
      "source": [
        "a=np.array([[1, 2, 3, 4],[5, 6, 7, 8],[9, 10, 11, 12]])\n",
        "b=np.array([[1, 2, 3, 4],[5, 6, 7, 8],[9, 10, 11, 12]])"
      ],
      "metadata": {
        "id": "Aj0LbEHMpX0U"
      },
      "execution_count": 25,
      "outputs": []
    },
    {
      "cell_type": "code",
      "source": [
        "indexwise_multiply=np.multiply(a,b)\n",
        "print(indexwise_multiply)"
      ],
      "metadata": {
        "colab": {
          "base_uri": "https://localhost:8080/"
        },
        "id": "ZeJKnu1xpp88",
        "outputId": "d5ed4abe-537d-412e-e134-db0f968d041c"
      },
      "execution_count": 27,
      "outputs": [
        {
          "output_type": "stream",
          "name": "stdout",
          "text": [
            "[[  1   4   9  16]\n",
            " [ 25  36  49  64]\n",
            " [ 81 100 121 144]]\n"
          ]
        }
      ]
    },
    {
      "cell_type": "code",
      "source": [
        "print(\"Matrix multiplication is:\",a*b)"
      ],
      "metadata": {
        "colab": {
          "base_uri": "https://localhost:8080/"
        },
        "id": "FBZ8mE5dqKH6",
        "outputId": "bb4d0d29-73a6-441d-fd50-a6a96b7d059b"
      },
      "execution_count": 28,
      "outputs": [
        {
          "output_type": "stream",
          "name": "stdout",
          "text": [
            "Matrix multiplication is: [[  1   4   9  16]\n",
            " [ 25  36  49  64]\n",
            " [ 81 100 121 144]]\n"
          ]
        }
      ]
    },
    {
      "cell_type": "code",
      "source": [
        "print(\"Matrix addition is:\",a+b)"
      ],
      "metadata": {
        "colab": {
          "base_uri": "https://localhost:8080/"
        },
        "id": "iUdqPb_BqUuR",
        "outputId": "a97cc775-8c08-4f71-d061-6201f49575c4"
      },
      "execution_count": 30,
      "outputs": [
        {
          "output_type": "stream",
          "name": "stdout",
          "text": [
            "Matrix addition is: [[ 2  4  6  8]\n",
            " [10 12 14 16]\n",
            " [18 20 22 24]]\n"
          ]
        }
      ]
    },
    {
      "cell_type": "code",
      "source": [
        "print(\"Matrix subtraction is:\",b-a)"
      ],
      "metadata": {
        "colab": {
          "base_uri": "https://localhost:8080/"
        },
        "id": "iKa2x2Ihqa4U",
        "outputId": "dee9032b-4699-4a53-cf3e-d4b1f6bee8bf"
      },
      "execution_count": 31,
      "outputs": [
        {
          "output_type": "stream",
          "name": "stdout",
          "text": [
            "Matrix subtraction is: [[0 0 0 0]\n",
            " [0 0 0 0]\n",
            " [0 0 0 0]]\n"
          ]
        }
      ]
    },
    {
      "cell_type": "code",
      "source": [
        "print(\"Matrix division is:\",b/a)"
      ],
      "metadata": {
        "colab": {
          "base_uri": "https://localhost:8080/"
        },
        "id": "O2e8YzmLqkYb",
        "outputId": "5c27713b-7958-4b43-cfb8-67674d1754aa"
      },
      "execution_count": 35,
      "outputs": [
        {
          "output_type": "stream",
          "name": "stdout",
          "text": [
            "Matrix division is: [[1. 1. 1. 1.]\n",
            " [1. 1. 1. 1.]\n",
            " [1. 1. 1. 1.]]\n"
          ]
        }
      ]
    },
    {
      "cell_type": "markdown",
      "source": [
        "In Python numpy the np.ndarray.byteswap() function is used for byte order swap of an array."
      ],
      "metadata": {
        "id": "rfOUJqAQq6Cd"
      }
    },
    {
      "cell_type": "markdown",
      "source": [
        "The np.linalg.inv function in NumPy is used to compute the inverse of a square matrix."
      ],
      "metadata": {
        "id": "C5A2S-lgq575"
      }
    },
    {
      "cell_type": "markdown",
      "source": [
        "np.reshape() is used to change the dimension and reshape the array or matrix in python and it is used by bassing the matrix as np.reshape(x):\n"
      ],
      "metadata": {
        "id": "Q4ueijnVrmiU"
      }
    },
    {
      "cell_type": "markdown",
      "source": [
        "Broadcasting in numpy is refered to as strong mechanisam to solve the complex claculation of mathematics. And it also allows to perform the arithematic operations on array with different shapes."
      ],
      "metadata": {
        "id": "4mWuOXNBsKYC"
      }
    },
    {
      "cell_type": "code",
      "source": [],
      "metadata": {
        "id": "CroMYsUWrNnl"
      },
      "execution_count": null,
      "outputs": []
    }
  ]
}